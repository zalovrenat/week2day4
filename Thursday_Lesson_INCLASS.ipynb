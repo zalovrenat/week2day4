{
 "cells": [
  {
   "cell_type": "markdown",
   "metadata": {},
   "source": [
    "# Object-Oriented-Programming (OOP)"
   ]
  },
  {
   "cell_type": "markdown",
   "metadata": {},
   "source": [
    "## Tasks Today:\n",
    "\n",
    "   \n",
    "\n",
    "1) <b>Creating a Class (Initializing/Declaring)</b> <br>\n",
    "2) <b>Using a Class (Instantiating)</b> <br>\n",
    " &nbsp;&nbsp;&nbsp;&nbsp; a) Creating One Instance <br>\n",
    " &nbsp;&nbsp;&nbsp;&nbsp; b) Creating Multiple Instances <br>\n",
    " &nbsp;&nbsp;&nbsp;&nbsp; c) In-Class Exercise #1 - Create a Class 'Car' and instantiate three different makes of cars <br>\n",
    "3) <b>The \\__init\\__() Method</b> <br>\n",
    " &nbsp;&nbsp;&nbsp;&nbsp; a) The 'self' Attribute <br>\n",
    "4) <b>Class Attributes</b> <br>\n",
    " &nbsp;&nbsp;&nbsp;&nbsp; a) Initializing Attributes <br>\n",
    " &nbsp;&nbsp;&nbsp;&nbsp; b) Setting an Attribute Outside of the \\__init\\__() Method <br>\n",
    " &nbsp;&nbsp;&nbsp;&nbsp; c) Setting Defaults for Attributes <br>\n",
    " &nbsp;&nbsp;&nbsp;&nbsp; d) Accessing Class Attributes <br>\n",
    " &nbsp;&nbsp;&nbsp;&nbsp; e) Changing Class Attributes <br>\n",
    " &nbsp;&nbsp;&nbsp;&nbsp; f) In-Class Exercise #2 - Add a color and wheels attribute to your 'Car' class <br>\n",
    "5) <b>Class Methods</b> <br>\n",
    " &nbsp;&nbsp;&nbsp;&nbsp; a) Creating <br>\n",
    " &nbsp;&nbsp;&nbsp;&nbsp; b) Calling <br>\n",
    " &nbsp;&nbsp;&nbsp;&nbsp; c) Modifying an Attribute's Value Through a Method <br>\n",
    " &nbsp;&nbsp;&nbsp;&nbsp; d) Incrementing an Attribute's Value Through a Method <br>\n",
    " &nbsp;&nbsp;&nbsp;&nbsp; e) In-Class Exercise #3 - Add a method that prints the cars color and wheel number, then call them <br>\n",
    "6) <b>Inheritance</b> <br>\n",
    " &nbsp;&nbsp;&nbsp;&nbsp; a) Syntax for Inheriting from a Parent Class <br>\n",
    " &nbsp;&nbsp;&nbsp;&nbsp; b) The \\__init\\__() Method for a Child Class (super()) <br>\n",
    " &nbsp;&nbsp;&nbsp;&nbsp; c) Defining Attributes and Methods for the Child Class <br>\n",
    " &nbsp;&nbsp;&nbsp;&nbsp; d) Method Overriding <br>\n",
    " &nbsp;&nbsp;&nbsp;&nbsp; e) In-Class Exercise #4 - Create a class 'Ford' that inherits from 'Car' class and initialize it as a Blue Ford Explorer with 4 wheels using the super() method <br>\n",
    "7) <b>Classes as Attributes</b> <br>\n",
    "8) <b>Exercises</b> <br>\n",
    " &nbsp;&nbsp;&nbsp;&nbsp; a) Exercise #1 - Turn the shopping cart program from yesterday into an object-oriented program <br>"
   ]
  },
  {
   "cell_type": "markdown",
   "metadata": {},
   "source": [
    "## Creating a Class (Initializing/Declaring)\n",
    "<p>When creating a class, function, or even a variable you are initializing that object. Initializing and Declaring occur at the same time in Python, whereas in lower level languages you have to declare an object before initializing it. This is the first step in the process of using a class.</p>"
   ]
  },
  {
   "cell_type": "code",
   "execution_count": 10,
   "metadata": {},
   "outputs": [],
   "source": [
    "class Car():\n",
    "    wheels = 4\n",
    "    color = 'blue'"
   ]
  },
  {
   "cell_type": "markdown",
   "metadata": {},
   "source": [
    "## Using a Class (Instantiating)\n",
    "<p>The process of creating a class is called <i>Instantiating</i>. Each time you create a variable of that type of class, it is referred to as an <i>Instance</i> of that class. This is the second step in the process of using a class.</p>"
   ]
  },
  {
   "cell_type": "markdown",
   "metadata": {},
   "source": [
    "##### Creating One Instance"
   ]
  },
  {
   "cell_type": "code",
   "execution_count": 8,
   "metadata": {},
   "outputs": [
    {
     "name": "stdout",
     "output_type": "stream",
     "text": [
      "<__main__.Car object at 0x000001E3D20DEDA0>\n",
      "<__main__.Car object at 0x000001E3D20DD630>\n",
      "red\n",
      "blue\n"
     ]
    }
   ],
   "source": [
    "ford = Car()\n",
    "honda = Car()\n",
    "ford = Car()\n",
    "\n",
    "print(ford)\n",
    "print(honda)\n",
    "\n",
    "ford.color\n",
    "\n",
    "ford.color = 'red'\n",
    "print(ford.color)\n",
    "print(honda.color)"
   ]
  },
  {
   "cell_type": "markdown",
   "metadata": {},
   "source": [
    "##### Creating Multiple Instances"
   ]
  },
  {
   "cell_type": "code",
   "execution_count": null,
   "metadata": {},
   "outputs": [],
   "source": [
    "# see above"
   ]
  },
  {
   "cell_type": "markdown",
   "metadata": {},
   "source": [
    "##### In-Class Exercise #1 - Create a Class 'Car' and Instantiate three different makes of cars"
   ]
  },
  {
   "cell_type": "code",
   "execution_count": null,
   "metadata": {},
   "outputs": [],
   "source": []
  },
  {
   "cell_type": "markdown",
   "metadata": {},
   "source": [
    "## The \\__init\\__() Method <br>\n",
    "<p>This method is used in almost every created class, and called only once upon the creation of the class instance. This method will initialize all variables needed for the object.</p>"
   ]
  },
  {
   "cell_type": "code",
   "execution_count": 20,
   "metadata": {},
   "outputs": [
    {
     "name": "stdout",
     "output_type": "stream",
     "text": [
      "4\n",
      "Bronco\n",
      "<__main__.Car object at 0x000001E3D21AFA90>\n"
     ]
    },
    {
     "data": {
      "text/plain": [
       "{'make': 2018,\n",
       " 'model': 'Ford',\n",
       " 'color': 'Bronco',\n",
       " 'year': 'red',\n",
       " 'mirrors': 2,\n",
       " 'wheels': 4}"
      ]
     },
     "execution_count": 20,
     "metadata": {},
     "output_type": "execute_result"
    }
   ],
   "source": [
    "class Car():\n",
    "    \n",
    "    def __init__(self, make, model, color, year = 1999):\n",
    "        self.make = make\n",
    "        self.model = model\n",
    "        self.color = color\n",
    "        self.year = year\n",
    "        self.mirrors = 2\n",
    "        self.wheels = 4\n",
    "        \n",
    "        \n",
    "        return\n",
    "    \n",
    "    def test(self):\n",
    "        return 'hi'\n",
    "    \n",
    "ford = Car(2018,'Ford','Bronco','red')\n",
    "honda = Car('Honda','Accord','blue')\n",
    "\n",
    "print(ford.wheels)\n",
    "print(ford.color)\n",
    "print(ford)\n",
    "\n",
    "ford.__dict__"
   ]
  },
  {
   "cell_type": "markdown",
   "metadata": {},
   "source": [
    "##### The 'self' Attribute <br>\n",
    "<p>This attribute is required to keep track of specific instance's attributes. Without the self attribute, the program would not know how to reference or keep track of an instance's attributes.</p>"
   ]
  },
  {
   "cell_type": "code",
   "execution_count": null,
   "metadata": {},
   "outputs": [],
   "source": [
    "# see above"
   ]
  },
  {
   "cell_type": "markdown",
   "metadata": {},
   "source": [
    "## Class Attributes <br>\n",
    "<p>While variables are inside of a class, they are referred to as attributes and not variables. When someone says 'attribute' you know they're speaking about a class. Attributes can be initialized through the init method, or outside of it.</p>"
   ]
  },
  {
   "cell_type": "markdown",
   "metadata": {},
   "source": [
    "##### Initializing Attributes"
   ]
  },
  {
   "cell_type": "code",
   "execution_count": null,
   "metadata": {},
   "outputs": [],
   "source": [
    "# see above"
   ]
  },
  {
   "cell_type": "markdown",
   "metadata": {},
   "source": [
    "##### Accessing Class Attributes"
   ]
  },
  {
   "cell_type": "code",
   "execution_count": null,
   "metadata": {
    "scrolled": true
   },
   "outputs": [],
   "source": [
    "# See Above"
   ]
  },
  {
   "cell_type": "markdown",
   "metadata": {},
   "source": [
    "##### Setting Defaults for Attributes"
   ]
  },
  {
   "cell_type": "code",
   "execution_count": null,
   "metadata": {},
   "outputs": [],
   "source": []
  },
  {
   "cell_type": "markdown",
   "metadata": {},
   "source": [
    "##### Changing Class Attributes <br>\n",
    "<p>Keep in mind there are global class attributes and then there are attributes only available to each class instance which won't effect other classes.</p>"
   ]
  },
  {
   "cell_type": "code",
   "execution_count": null,
   "metadata": {},
   "outputs": [],
   "source": []
  },
  {
   "cell_type": "code",
   "execution_count": null,
   "metadata": {},
   "outputs": [],
   "source": []
  },
  {
   "cell_type": "markdown",
   "metadata": {},
   "source": [
    "##### In-Class Exercise #2 - Add a doors and seats attribute to your 'Car' class then print out two different instances with different doors and seats"
   ]
  },
  {
   "cell_type": "code",
   "execution_count": null,
   "metadata": {},
   "outputs": [],
   "source": []
  },
  {
   "cell_type": "markdown",
   "metadata": {},
   "source": [
    "## Class Methods <br>\n",
    "<p>While inside of a class, functions are referred to as 'methods'. If you hear someone mention methods, they're speaking about classes. Methods are essentially functions, but only callable on the instances of a class.</p>"
   ]
  },
  {
   "cell_type": "markdown",
   "metadata": {},
   "source": [
    "##### Creating"
   ]
  },
  {
   "cell_type": "code",
   "execution_count": 25,
   "metadata": {},
   "outputs": [
    {
     "name": "stdout",
     "output_type": "stream",
     "text": [
      "4\n",
      "Bronco\n",
      "<__main__.Car object at 0x000001E3D0AFC940>\n",
      "1000\n",
      "16999\n",
      "17199\n",
      "{'make': 'Honda', 'model': 'Accord', 'color': 'blue', 'year': 1999, 'mirrors': 2, 'wheels': 4, 'mileage': 17199}\n",
      "{'make': 'Honda', 'model': 'Accord', 'color': 'blue', 'year': 1999, 'mirrors': 2, 'wheels': 4, 'mileage': 17199, 'sunroof': True}\n"
     ]
    }
   ],
   "source": [
    "class Car():\n",
    "    \n",
    "    def __init__(self, make, model, color, year = 1999):\n",
    "        self.make = make\n",
    "        self.model = model\n",
    "        self.color = color\n",
    "        self.year = year\n",
    "        self.mirrors = 2\n",
    "        self.wheels = 4\n",
    "        self.mileage = 1000\n",
    "        \n",
    "        \n",
    "        return\n",
    "    \n",
    "    # setter\n",
    "    \n",
    "    def drive(self, distance = 1):\n",
    "        self.mileage += distance\n",
    "    \n",
    "    def change_color(self, new_color):\n",
    "        self.color = new_color\n",
    "    \n",
    "    def add_sunroof(self):\n",
    "        self.sunroof = True\n",
    "    \n",
    "    # getter\n",
    "    \n",
    "    def check_odometer(self):\n",
    "        return self.mileage\n",
    "    \n",
    "    \n",
    "ford = Car(2018,'Ford','Bronco','red')\n",
    "honda = Car('Honda','Accord','blue')\n",
    "\n",
    "print(ford.wheels)\n",
    "print(ford.color)\n",
    "print(ford)\n",
    "\n",
    "print(honda.check_odometer())\n",
    "honda.drive(15999)\n",
    "print(honda.check_odometer())\n",
    "\n",
    "honda.drive(100) # these two are the same\n",
    "Car.drive(honda,100) # these two are the same\n",
    "\n",
    "print(honda.check_odometer())\n",
    "print(honda.__dict__)\n",
    "honda.add_sunroof()\n",
    "print(honda.__dict__)"
   ]
  },
  {
   "cell_type": "markdown",
   "metadata": {},
   "source": [
    "##### Calling"
   ]
  },
  {
   "cell_type": "code",
   "execution_count": null,
   "metadata": {},
   "outputs": [],
   "source": [
    "# See Above"
   ]
  },
  {
   "cell_type": "markdown",
   "metadata": {},
   "source": [
    "##### Modifying an Attribute's Value Through a Method"
   ]
  },
  {
   "cell_type": "code",
   "execution_count": null,
   "metadata": {},
   "outputs": [],
   "source": [
    "# See Above\n",
    "# (SETTER)\n",
    "# .drive() method"
   ]
  },
  {
   "cell_type": "markdown",
   "metadata": {},
   "source": [
    "##### Incrementing an Attribute's Value Through a Method"
   ]
  },
  {
   "cell_type": "code",
   "execution_count": null,
   "metadata": {},
   "outputs": [],
   "source": []
  },
  {
   "cell_type": "markdown",
   "metadata": {},
   "source": [
    "##### In-Class Exercise #3 - Add a method that takes in three parameters of year, doors and seats and prints out a formatted print statement with make, model, year, seats, and doors"
   ]
  },
  {
   "cell_type": "code",
   "execution_count": 28,
   "metadata": {},
   "outputs": [
    {
     "data": {
      "text/plain": [
       "'This car is from 2019 and is a Ford Explorer and has 4 doors and 5 seats'"
      ]
     },
     "execution_count": 28,
     "metadata": {},
     "output_type": "execute_result"
    }
   ],
   "source": [
    "# Create class with 2 paramters inside of the __init__ which are make and model\n",
    "\n",
    "# Inside of the Car class create a method that has 4 parameter in total (self,year,door,seats)\n",
    "\n",
    "# Output: This car is from 2019 and is a Ford Expolorer and has 4 doors and 5 seats\n",
    "\n",
    "class Car():\n",
    "    \n",
    "    def __init__(self, make, model):\n",
    "        self.make = make\n",
    "        self.model = model\n",
    "    \n",
    "    def get_car_characteristics(self, year, doors, seats):\n",
    "        self.year = year\n",
    "        self.doors = doors\n",
    "        self.seats = seats\n",
    "        return f'This car is from {self.year} and is a {self.make} {self.model} and has {self.doors} doors and {self.seats} seats'\n",
    " \n",
    "ford = Car('Ford',\"Explorer\")\n",
    "ford.get_car_characteristics(2019,4,5)"
   ]
  },
  {
   "cell_type": "markdown",
   "metadata": {},
   "source": [
    "## Inheritance <br>\n",
    "<p>You can create a child-parent relationship between two classes by using inheritance. What this allows you to do is have overriding methods, but also inherit traits from the parent class. Think of it as an actual parent and child, the child will inherit the parent's genes, as will the classes in OOP</p>"
   ]
  },
  {
   "cell_type": "markdown",
   "metadata": {},
   "source": [
    "##### Syntax for Inheriting from a Parent Class"
   ]
  },
  {
   "cell_type": "code",
   "execution_count": 48,
   "metadata": {},
   "outputs": [],
   "source": [
    "class Animal():\n",
    "    \n",
    "    def __init__(self, name, species, legs = 4):\n",
    "        self.name = name\n",
    "        self.species = species\n",
    "        self.legs = legs\n",
    "    \n",
    "    def talk(self):\n",
    "        print('...')\n",
    "\n",
    "        \n",
    "        \n",
    "class Dog(Animal):\n",
    "    \n",
    "    def __init__(self, name, species, owner, breed, legs = 4):\n",
    "        \n",
    "        Animal.__init__(self, name, species, legs)\n",
    "        \n",
    "        # New Dog-Specific Class Attributes\n",
    "        \n",
    "        self.owner = owner\n",
    "        self.breed = breed\n",
    "    \n",
    "    def talk(self):\n",
    "        print('Woof!')\n",
    "        \n",
    "    def fetch(self, ball):\n",
    "        return ball\n",
    "\n",
    "    \n",
    "    \n",
    "class Cat(Animal):\n",
    "    \n",
    "    def __init__(self, cat_name, species, owner, breed, evil = True, legs = 4):\n",
    "        \n",
    "        super().__init__(cat_name, species, legs)\n",
    "        \n",
    "        # New Dog-Specific Class Attributes\n",
    "        \n",
    "        self.owner = owner\n",
    "        self.breed = breed\n",
    "        self.evil = evil\n",
    "    \n",
    "    def talk(self):\n",
    "        print('Meow!')\n",
    "        "
   ]
  },
  {
   "cell_type": "code",
   "execution_count": 49,
   "metadata": {},
   "outputs": [
    {
     "name": "stdout",
     "output_type": "stream",
     "text": [
      "{'name': 'Shoha', 'species': 'Human', 'legs': 2}\n",
      "{'name': 'Link', 'species': 'Dogo Sapien', 'legs': 4, 'owner': 'Shoha', 'breed': 'Dalmation'}\n",
      "<class '__main__.Animal'>\n",
      "<class '__main__.Dog'>\n",
      "...\n",
      "Woof!\n",
      "Meow!\n",
      "{'name': 'Garfield', 'species': 'Feline', 'legs': 4, 'owner': 'Sarah', 'breed': 'Tabby', 'evil': True}\n"
     ]
    }
   ],
   "source": [
    "a1 = Animal('Shoha','Human',2)\n",
    "print(a1.__dict__)\n",
    "\n",
    "d1 = Dog('Link','Dogo Sapien','Shoha','Dalmation')\n",
    "print(d1.__dict__)\n",
    "\n",
    "print(type(a1))\n",
    "print(type(d1))\n",
    "\n",
    "a1.talk()\n",
    "d1.talk()\n",
    "\n",
    "d1.fetch('tennis ball')\n",
    "\n",
    "c1 = Cat('Garfield','Feline','Sarah','Tabby')\n",
    "c1.talk()\n",
    "print(c1.__dict__)"
   ]
  },
  {
   "cell_type": "markdown",
   "metadata": {},
   "source": [
    "##### The \\__init\\__() Method for a Child Class - super()"
   ]
  },
  {
   "cell_type": "code",
   "execution_count": null,
   "metadata": {
    "scrolled": true
   },
   "outputs": [],
   "source": [
    "# See Above"
   ]
  },
  {
   "cell_type": "markdown",
   "metadata": {},
   "source": [
    "##### Defining Attributes and Methods for the Child Class"
   ]
  },
  {
   "cell_type": "code",
   "execution_count": null,
   "metadata": {},
   "outputs": [],
   "source": [
    "# See Above"
   ]
  },
  {
   "cell_type": "markdown",
   "metadata": {},
   "source": [
    "##### Method Overriding"
   ]
  },
  {
   "cell_type": "code",
   "execution_count": null,
   "metadata": {},
   "outputs": [],
   "source": [
    "# See Above"
   ]
  },
  {
   "cell_type": "markdown",
   "metadata": {},
   "source": [
    "## Classes as Attributes <br>\n",
    "<p>Classes can also be used as attributes within another class. This is useful in situations where you need to keep variables locally stored, instead of globally stored.</p>"
   ]
  },
  {
   "cell_type": "code",
   "execution_count": 55,
   "metadata": {},
   "outputs": [
    {
     "name": "stdout",
     "output_type": "stream",
     "text": [
      "This is a 2030 Tesla Cybertruck and it has a 20-cell battery\n"
     ]
    },
    {
     "data": {
      "text/plain": [
       "20"
      ]
     },
     "execution_count": 55,
     "metadata": {},
     "output_type": "execute_result"
    }
   ],
   "source": [
    "class Battery():\n",
    "    \n",
    "    def __init__(self, cells):\n",
    "        self.cells = cells\n",
    "        self.volts = 7.8\n",
    "\n",
    "class Car():\n",
    "    \n",
    "    def __init__(self, make, model, year, battery):\n",
    "        self.year = year\n",
    "        self.make = make\n",
    "        self.model = model\n",
    "        self.battery = battery\n",
    "        \n",
    "    def print_info(self):\n",
    "        return f'This is a {self.year} {self.make} {self.model} and it has a {self.battery.cells}-cell battery'\n",
    "\n",
    "bat = Battery(20)\n",
    "tesla = Car('Tesla','Cybertruck','2030',bat)\n",
    "\n",
    "print(tesla.print_info())\n",
    "\n",
    "tesla.battery.cells"
   ]
  },
  {
   "cell_type": "markdown",
   "metadata": {},
   "source": [
    "# Exercises"
   ]
  },
  {
   "cell_type": "markdown",
   "metadata": {},
   "source": [
    "### Exercise 1 - Turn the shopping cart program from yesterday into an object-oriented program\n",
    "\n",
    "The comments in the cell below are there as a guide for thinking about the problem. However, if you feel a different way is best for you and your own thought process, please do what feels best for you by all means."
   ]
  },
  {
   "cell_type": "code",
   "execution_count": 16,
   "metadata": {},
   "outputs": [
    {
     "name": "stdout",
     "output_type": "stream",
     "text": [
      "Thank you for shopping at Grocery Mart. Here are the contents of your shopping cart:\n",
      "{'banana': 15}\n"
     ]
    },
    {
     "data": {
      "text/plain": [
       "{'banana': 15}"
      ]
     },
     "execution_count": 16,
     "metadata": {},
     "output_type": "execute_result"
    }
   ],
   "source": [
    "# Create a class called cart that retains items and has methods to add, remove, and show\n",
    "\n",
    "class Cart():\n",
    "    \n",
    "    def __init__(self):\n",
    "        self.my_shopping_cart = {}\n",
    "        \n",
    "    def show_cart(self):\n",
    "        print(f\"The contents of your shopping cart are as follows: \\n{self.my_shopping_cart}\")\n",
    "    \n",
    "    def add_items_to_cart(self):\n",
    "        \n",
    "        grocery_added = input(\"What item would you like to add to your cart?: \").lower()\n",
    "            \n",
    "            # Add item if non-zero quantity of the item is already in shopping cart\n",
    "            \n",
    "        if grocery_added in self.my_shopping_cart:\n",
    "\n",
    "            while True:\n",
    "                grocery_added_qty = input(f\"You already have a quantity of {self.my_shopping_cart[grocery_added]} of the item '{grocery_added}' in your shopping cart. How many more would you like to add?: \")\n",
    "\n",
    "                if grocery_added_qty.isdigit() and int(grocery_added_qty) > 0:\n",
    "                    grocery_added_qty = int(grocery_added_qty)\n",
    "                    self.my_shopping_cart[grocery_added] += grocery_added_qty\n",
    "                    break\n",
    "\n",
    "                else:\n",
    "                    grocery_added_qty = input(\"The quantity you entered is not valid. Please enter a positive number (use numerals): \")            \n",
    "\n",
    "        # Add item if item is not in shopping cart\n",
    "\n",
    "        else:\n",
    "\n",
    "            # Error handling for quantity to be added to shopping cart\n",
    "\n",
    "            while True:\n",
    "\n",
    "                grocery_added_qty = input(f\"What quantity of the item '{grocery_added}' would you like to add to your shopping cart?: \")\n",
    "\n",
    "                if grocery_added_qty.isdigit() and int(grocery_added_qty) > 0:\n",
    "                    grocery_added_qty = int(grocery_added_qty)\n",
    "                    self.my_shopping_cart[grocery_added] = grocery_added_qty\n",
    "                    break\n",
    "\n",
    "                else:\n",
    "                    print(\"The quantity you entered is not valid. Please enter a positive number (use numerals): \")\n",
    "\n",
    "        print(f\"Thank you for adding {grocery_added_qty} units of the item '{grocery_added}' to your shopping cart.\")\n",
    "        \n",
    "    def remove_items_from_cart(self):\n",
    "        \n",
    "        while True:\n",
    "        \n",
    "            grocery_removed = input(\"What item would you like to remove from your shopping cart?: \").lower()\n",
    "\n",
    "            if grocery_removed in self.my_shopping_cart:\n",
    "\n",
    "            # Error handling for quantity to be removed from shopping cart\n",
    "\n",
    "                while True:\n",
    "\n",
    "                    grocery_removed_qty = input(f\"How many of the item '{grocery_removed}' would you like to remove from your shopping cart?: \")\n",
    "\n",
    "                    if grocery_removed_qty.isdigit() and int(grocery_removed_qty) > 0:\n",
    "\n",
    "                        grocery_removed_qty = int(grocery_removed_qty)\n",
    "\n",
    "                        # Error handling if requested removal quantity exceeds quantity currently in shopping cart\n",
    "\n",
    "                        if grocery_removed_qty > self.my_shopping_cart[grocery_removed]:\n",
    "                            print(f\"The quantity of the item '{grocery_removed}' that you want to remove exceeds the current quantity of the item in your shopping cart. Please enter a number less than or equal to {self.my_shopping_cart[grocery_removed]}\")\n",
    "\n",
    "                        elif grocery_removed_qty == self.my_shopping_cart[grocery_removed]:\n",
    "                            del self.my_shopping_cart[grocery_removed]\n",
    "                            print(f\"You have successfully removed {grocery_removed_qty} of the item '{grocery_removed}' from your shopping cart. \\nThe quantity of the item '{grocery_removed}' in your shopping cart is 0. \\nThe updated contents of your shopping cart are: \\n{self.my_shopping_cart}\")\n",
    "                            return\n",
    "\n",
    "                        else:\n",
    "                            self.my_shopping_cart[grocery_removed] -= grocery_removed_qty\n",
    "                            print(f\"You have successfully removed {grocery_removed_qty} of the item '{grocery_removed}' from your shopping cart. \\nThe updated quantity of the item '{grocery_removed}' in your shopping cart is {self.my_shopping_cart[grocery_removed]}. \\nThe updated contents of your shopping cart are: \\n{self.my_shopping_cart}\")\n",
    "                            return\n",
    "\n",
    "                    else:\n",
    "                        print(\"The quantity you entered is not valid. Please enter a positive number (use numerals): \")\n",
    "\n",
    "            # Error handling if item requested to be removed is not in shopping cart\n",
    "\n",
    "            else:\n",
    "                print(f\"The item '{grocery_removed}' does not appear in your shopping cart. \\nHere is what you currently have in your shopping cart: \\n{self.my_shopping_cart}\")\n",
    "                break\n",
    "    \n",
    "    def quit_cart(self):\n",
    "        \n",
    "        while True:\n",
    "                \n",
    "            # Confirm user wants to quit\n",
    "\n",
    "            quit_sure = input(\"Are you sure you want to leave? (Yes/No): \").lower()\n",
    "\n",
    "            if quit_sure == \"no\" or quit_sure == \"n\":\n",
    "                break\n",
    "            elif quit_sure == \"yes\" or quit_sure == \"y\":\n",
    "                outer_break_status = False\n",
    "                break\n",
    "\n",
    "            # Check for response validity\n",
    "\n",
    "            else:\n",
    "                print(\"That does not seem to be a valid response.\")\n",
    "\n",
    "    def go_shopping(self):\n",
    "    \n",
    "    # Introduction\n",
    "    \n",
    "        print(\"Welcome to Grocery Mart! Thank you for grabbing a shopping cart.\")\n",
    "\n",
    "        while True:\n",
    "\n",
    "            ans = input(\"What would you like to do with your cart? (Show/Add/Delete/Quit): \").lower()\n",
    "\n",
    "            # Show items in shopping cart\n",
    "\n",
    "            if ans == \"show\" or ans == \"s\":\n",
    "                self.show_cart()\n",
    "\n",
    "            # Add item to shopping Cart\n",
    "\n",
    "            elif ans == \"add\" or ans == \"a\":\n",
    "                self.add_items_to_cart()\n",
    "\n",
    "            # Remove item from shopping cart\n",
    "\n",
    "            elif ans == \"delete\" or ans == \"del\" or ans == \"d\":\n",
    "                self.remove_items_from_cart()\n",
    "\n",
    "            # Quit\n",
    "\n",
    "            elif ans == \"quit\" or ans == \"q\":\n",
    "                self.quit_cart()\n",
    "                break\n",
    "\n",
    "            # Check for response validity\n",
    "\n",
    "            else:\n",
    "                print(\"That does not seem to be a valid response.\")\n",
    "\n",
    "        clear_output()\n",
    "\n",
    "        print(\"Thank you for shopping at Grocery Mart. Here are the contents of your shopping cart:\")\n",
    "        print(self.my_shopping_cart)\n",
    "        return(self.my_shopping_cart)\n",
    "        \n",
    "from IPython.display import clear_output\n",
    "\n",
    "# Ask the user four bits of input: Do you want to : Show/Add/Delete or Quit?\n",
    "\n",
    "renatShoppingCart = Cart()\n",
    "renatShoppingCart.go_shopping()"
   ]
  },
  {
   "cell_type": "markdown",
   "metadata": {},
   "source": [
    "### Exercise 2 - Write a Python class which has two methods get_String and print_String. get_String accept a string from the user and print_String print the string in upper case"
   ]
  },
  {
   "cell_type": "code",
   "execution_count": 14,
   "metadata": {},
   "outputs": [
    {
     "name": "stdout",
     "output_type": "stream",
     "text": [
      "Hello, my name is Renat\n"
     ]
    }
   ],
   "source": [
    "class StringGenerator():\n",
    "    \n",
    "    def __init__(self):\n",
    "        self.myString = None\n",
    "    \n",
    "    def get_String(self, myString):\n",
    "        self.myString = str(myString)\n",
    "    \n",
    "    def print_String(self):\n",
    "        print(self.myString)\n",
    "        \n",
    "renatString = StringGenerator()\n",
    "renatString.get_String(\"Hello, my name is Renat\")\n",
    "renatString.print_String()"
   ]
  }
 ],
 "metadata": {
  "kernelspec": {
   "display_name": "Python 3 (ipykernel)",
   "language": "python",
   "name": "python3"
  },
  "language_info": {
   "codemirror_mode": {
    "name": "ipython",
    "version": 3
   },
   "file_extension": ".py",
   "mimetype": "text/x-python",
   "name": "python",
   "nbconvert_exporter": "python",
   "pygments_lexer": "ipython3",
   "version": "3.10.9"
  }
 },
 "nbformat": 4,
 "nbformat_minor": 2
}
